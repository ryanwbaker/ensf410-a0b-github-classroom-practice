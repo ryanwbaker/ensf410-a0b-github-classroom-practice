{
 "cells": [
  {
   "cell_type": "markdown",
   "source": [
    "Author: Ryan Baker"
   ],
   "metadata": {}
  },
  {
   "cell_type": "code",
   "execution_count": 1,
   "source": [
    "# paste code from README.md to display versions and run cell\r\n",
    "import sys\r\n",
    "print(\"Python version:\", sys.version)\r\n",
    "\r\n",
    "import pandas as pd\r\n",
    "print(\"pandas version:\", pd.__version__)\r\n",
    "\r\n",
    "import matplotlib\r\n",
    "print(\"matplotlib version:\", matplotlib.__version__)\r\n",
    "\r\n",
    "import numpy as np\r\n",
    "print(\"NumPy version:\", np.__version__)\r\n",
    "\r\n",
    "import scipy as sp\r\n",
    "print(\"SciPy version:\", sp.__version__)\r\n",
    "\r\n",
    "import IPython\r\n",
    "print(\"IPython version:\", IPython.__version__)\r\n",
    "\r\n",
    "import sklearn\r\n",
    "print(\"scikit-learn version:\", sklearn.__version__)\r\n",
    "\r\n",
    "import yellowbrick\r\n",
    "print(\"yellowbrick version:\", yellowbrick.__version__)"
   ],
   "outputs": [
    {
     "output_type": "stream",
     "name": "stdout",
     "text": [
      "Python version: 3.8.8 (default, Apr 13 2021, 15:08:03) [MSC v.1916 64 bit (AMD64)]\n",
      "pandas version: 1.2.4\n",
      "matplotlib version: 3.3.4\n",
      "NumPy version: 1.16.6\n",
      "SciPy version: 1.6.2\n",
      "IPython version: 7.22.0\n",
      "scikit-learn version: 0.24.1\n",
      "yellowbrick version: 1.3\n"
     ]
    }
   ],
   "metadata": {}
  },
  {
   "cell_type": "code",
   "execution_count": 3,
   "source": [
    "# run this cell to list conda environments\r\n",
    "!conda info --envs"
   ],
   "outputs": [
    {
     "output_type": "stream",
     "name": "stdout",
     "text": [
      "# conda environments:\n",
      "#\n",
      "base                     C:\\Users\\RyanBaker\\Anaconda3\n",
      "ensf-ml               *  C:\\Users\\RyanBaker\\Anaconda3\\envs\\ensf-ml\n",
      "\n"
     ]
    }
   ],
   "metadata": {}
  }
 ],
 "metadata": {
  "kernelspec": {
   "name": "python3",
   "display_name": "Python 3.8.8 64-bit ('ensf-ml': conda)"
  },
  "language_info": {
   "codemirror_mode": {
    "name": "ipython",
    "version": 3
   },
   "file_extension": ".py",
   "mimetype": "text/x-python",
   "name": "python",
   "nbconvert_exporter": "python",
   "pygments_lexer": "ipython3",
   "version": "3.8.8"
  },
  "interpreter": {
   "hash": "f6f02e9f85b690ba3605e25e2207de0a0cdb14a188c0224e174543eb34a40aa5"
  }
 },
 "nbformat": 4,
 "nbformat_minor": 4
}